{
 "cells": [
  {
   "cell_type": "code",
   "execution_count": 2,
   "metadata": {},
   "outputs": [
    {
     "name": "stdout",
     "output_type": "stream",
     "text": [
      "Theoritical win ratio if the player always changes his choice is: 0.6666\n",
      "\n",
      "Simulated (for N = 1000000) win ratio if the player always changes his choice: 0.66626\n"
     ]
    }
   ],
   "source": [
    "\"\"\"From Wikipedia, the free encyclopedia\n",
    "\n",
    "    The Monty Hall problem is a brain teaser, in the form of a probability puzzle, \n",
    "loosely based on the American television game show 'Let's Make a Deal' and named \n",
    "after its original host, Monty Hall. \n",
    "\n",
    "    The problem was originally posed (and solved) in a letter by Steve Selvin to the \n",
    "American Statistician in 1975. \n",
    "\n",
    "    It became famous as a question from a reader's letter quoted in Marilyn vos Savant's \n",
    "\"Ask Marilyn\" column in Parade magazine in 1990 (vos Savant 1990a): \"Suppose you're on \n",
    "a game show, and you're given the choice of three doors: Behind one door is a car; behind \n",
    "the others, goats. You pick a door, say No. 1, and the host, who knows what's behind the \n",
    "doors, opens another door, say No. 3, which has a goat. He then says to you, \"Do you want \n",
    "to pick door No. 2?\" Is it to your advantage to switch your choice?\"\n",
    "    Vos Savant's response was that the contestant should switch to the other door. Under \n",
    "the standard assumptions, contestants who switch have a 2/3 chance of winning the car, while \n",
    "contestants who stick to their initial choice have only a 1/3 chance.\n",
    "\n",
    "    The given probabilities depend on specific assumptions about how the host and contestant choose \n",
    "their doors. A key insight is that, under these standard conditions, there is more information \n",
    "about doors 2 and 3 that was not available at the beginning of the game, when the door 1 was chosen \n",
    "by the player: the host's deliberate action adds value to the door he did not choose to eliminate, \n",
    "but not to the one chosen by the contestant originally. Another insight is that switching doors is a \n",
    "different action than choosing between the two remaining doors at random, as the first action uses the \n",
    "previous information and the latter does not. Other possible behaviors than the one described can reveal \n",
    "different additional information, or none at all, and yield different probabilities.\n",
    "\n",
    "    Many readers of vos Savant's column refused to believe switching is beneficial despite her explanation! \n",
    "After the problem appeared in Parade, approximately 10,000 readers, including nearly 1,000 with PhDs, \n",
    "wrote to the magazine, most of them claiming vos Savant was wrong.  \n",
    "\n",
    "    The problem is a paradox of the veridical type, because the correct choice (that one should switch doors) \n",
    "is so counterintuitive it can seem absurd, but is nevertheless demonstrably true. The Monty Hall problem \n",
    "is mathematically closely related to the earlier 'Three Prisoners' problem and to the much older\n",
    "'Bertrand's box' paradox.\n",
    "\"\"\"\n",
    "\n",
    "from random import randint\n",
    "\n",
    "\n",
    "def simulate(N):\n",
    "    \"\"\"Monty Hall problem simulation.\n",
    "    It simulates the problem N times and returns the ratio of \n",
    "    correct player guesses when the player always switches doors.\"\"\"\n",
    "    K = 0     # This is the number of correct guesses in our simulation\n",
    "    doors = [1, 2, 3]\n",
    "    for _ in range(N):\n",
    "        # Randomly choose the car's true location (door number) \n",
    "        # and the initial choice for the player\n",
    "        car_location, initial_choice = randint(1, 3), randint(1, 3)\n",
    "        # Monty now reveals that one of the two other doors has no car behind it.\n",
    "        montys_options = [door for door in doors if door != initial_choice and door != car_location]\n",
    "        if len(montys_options) == 1:\n",
    "            montys_choice = montys_options[0]\n",
    "        else:\n",
    "            montys_choice = montys_options[randint(0, 1)]\n",
    "        # Player now changes his mind and chooses the remaining door!\n",
    "        final_choice = [door for door in doors if door != initial_choice and door != montys_choice][0]\n",
    "        if final_choice == car_location:\n",
    "            K += 1  \n",
    "    return float(K) / N\n",
    "\n",
    "N = 10**6  # Number of experiments in the simulation\n",
    "print \"Theoritical win ratio if the player always changes his choice is: 0.6666\"\n",
    "print\n",
    "print \"Simulated (for N = {0}) win ratio if the player always changes his choice: {1}\".format(N, simulate(N))\n",
    "\n"
   ]
  }
 ],
 "metadata": {
  "kernelspec": {
   "display_name": "Python 2",
   "language": "python",
   "name": "python2"
  },
  "language_info": {
   "codemirror_mode": {
    "name": "ipython",
    "version": 2
   },
   "file_extension": ".py",
   "mimetype": "text/x-python",
   "name": "python",
   "nbconvert_exporter": "python",
   "pygments_lexer": "ipython2",
   "version": "2.7.13"
  }
 },
 "nbformat": 4,
 "nbformat_minor": 2
}
