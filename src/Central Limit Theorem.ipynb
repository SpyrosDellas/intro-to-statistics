{
 "cells": [
  {
   "cell_type": "code",
   "execution_count": 32,
   "metadata": {},
   "outputs": [],
   "source": [
    "import numpy as np\n",
    "import matplotlib.pyplot as plt\n",
    "\n",
    "\n",
    "def mean(data):\n",
    "    return data.mean()\n",
    "\n",
    "\n",
    "def variance(data):\n",
    "    return data.var()\n",
    "\n",
    "\n",
    "def stddev(data):\n",
    "    return data.std()\n",
    "    \n",
    "    \n",
    "def sample(n, trials):\n",
    "    \"\"\"Monte Carlo simulation of n coin flips for 'trials' times.\"\"\"\n",
    "    rng = np.random.default_rng()\n",
    "    p = 0.5  # probability of each trial\n",
    "    flips = rng.binomial(n, p, trials)\n",
    "    return flips / n\n",
    "\n"
   ]
  },
  {
   "cell_type": "code",
   "execution_count": 42,
   "metadata": {},
   "outputs": [
    {
     "data": {
      "image/png": "[encoded data removed]",
      "text/plain": [
       "<Figure size 576x576 with 1 Axes>"
      ]
     },
     "metadata": {
      "needs_background": "light"
     },
     "output_type": "display_data"
    }
   ],
   "source": [
    "n = 10000\n",
    "trials = 10000000\n",
    "\n",
    "plt.figure(figsize=(8, 8))\n",
    "plt.hist(sample(n, trials), bins=750)\n",
    "plt.show()\n",
    "\n",
    "# print(\"Mean of the means: {}\".format(mean(outcomes)))\n",
    "# print(\"Standard Deviation of the means: {}\".format(stddev(outcomes)))"
   ]
  },
  {
   "cell_type": "code",
   "execution_count": null,
   "metadata": {},
   "outputs": [],
   "source": []
  }
 ],
 "metadata": {
  "kernelspec": {
   "display_name": "Python 3",
   "language": "python",
   "name": "python3"
  },
  "language_info": {
   "codemirror_mode": {
    "name": "ipython",
    "version": 3
   },
   "file_extension": ".py",
   "mimetype": "text/x-python",
   "name": "python",
   "nbconvert_exporter": "python",
   "pygments_lexer": "ipython3",
   "version": "3.7.9"
  }
 },
 "nbformat": 4,
 "nbformat_minor": 2
}
